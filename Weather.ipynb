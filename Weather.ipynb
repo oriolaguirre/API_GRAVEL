{
 "cells": [
  {
   "attachments": {},
   "cell_type": "markdown",
   "metadata": {
    "colab_type": "text",
    "id": "gorjhNWk1jYI"
   },
   "source": [
    "**Importar librerias**"
   ]
  },
  {
   "cell_type": "code",
   "execution_count": 4,
   "metadata": {},
   "outputs": [
    {
     "name": "stdout",
     "output_type": "stream",
     "text": [
      "Requirement already satisfied: python-dotenv in c:\\users\\34666\\appdata\\local\\programs\\python\\python311\\lib\\site-packages (1.1.1)\n",
      "Note: you may need to restart the kernel to use updated packages.\n"
     ]
    }
   ],
   "source": [
    "pip install python-dotenv"
   ]
  },
  {
   "cell_type": "code",
   "execution_count": 10,
   "metadata": {},
   "outputs": [
    {
     "name": "stdout",
     "output_type": "stream",
     "text": [
      "El ser humano, *Homo sapiens*, ha evolucionado a lo largo de millones de años a partir de antepasados primates. \n",
      "\n",
      "**Nuestra historia evolutiva no es una línea recta, sino un árbol ramificado con muchas ramas y mutaciones a lo largo del camino.**\n",
      "\n",
      "**Aquí hay algunos puntos clave:**\n",
      "\n",
      "* **Primates:** Nuestros antepasados más cercanos son los primates, especialmente los homínidos. Existían hace millones de años en África.\n",
      "* **Australopithecus:** Estos homínidos, como \"Lucy\", caminaban erguidos y tenían características que los diferenciaban de chimpancés, como cráneos más grandes. Vivieron hace alrededor de 4 a 2 millones de años.\n",
      "* **Homo habilis:** Considerado el primer miembro del género Homo, se caracterizó por la fabricación y uso de herramientas rudimentarias. Vivían hace aproximadamente 2.4 a 1.6 millones de años.\n",
      "* **Homo erectus:** A este homínido se le atribuye la primera migración fuera de África, hacia Asia y Europa. Dominaron el fuego y perfeccionaron las herramientas. Vivieron hace 1.8 millones a 117.000 años.\n",
      "* **Neandertales:** Homo neanderthalensis fueron una especie humana que cohabitó con Homo sapiens en Europa y Asia durante decenas de miles de años. Se extinguieron hace unos 40.000 años.\n",
      "* **Homo sapiens:** Aparecieron en África hace aproximadamente 300,000 años y se extendieron por todo el mundo. Se caracterizan por su inteligencia, lenguaje complejo y capacidad cultural.\n",
      "\n",
      "**Es importante recordar que:**\n",
      "\n",
      "* La evolución es un proceso continuo y estamos todavía aprendiendo sobre nuestros antepasados.\n",
      "* La evolución no es una línea recta de progreso, sino un proceso de adaptación a los cambios ambientales.\n",
      "* No hay una \"esencia humana\" única, sino una diversidad de rasgos y adaptaciones que han evolucionado a lo largo del tiempo.\n",
      "\n",
      "\n",
      "Espero que esta información te sea útil.\n",
      "\n"
     ]
    }
   ],
   "source": [
    "\n",
    "from groq import Groq\n",
    "import os\n",
    "from dotenv import load_dotenv\n",
    "load_dotenv()\n",
    "client = Groq(\n",
    "    api_key=os.environ.get(\"GROQ_API_KEY\"),\n",
    ")\n",
    "\n",
    "chat_completion = client.chat.completions.create(\n",
    "    messages=[\n",
    "        {\n",
    "            \"role\": \"user\",\n",
    "            \"content\": \"De donde ha evolucionado el hombre?\",\n",
    "        }\n",
    "    ],\n",
    "    model=\"gemma2-9b-it\",\n",
    "    stream=False,\n",
    ")\n",
    "\n",
    "print(chat_completion.choices[0].message.content)\n"
   ]
  }
 ],
 "metadata": {
  "accelerator": "GPU",
  "colab": {
   "collapsed_sections": [],
   "name": "Polynomial Regression on Boston Housing Data.ipynb",
   "provenance": [],
   "version": "0.3.2"
  },
  "kernelspec": {
   "display_name": "Python 3",
   "language": "python",
   "name": "python3"
  },
  "language_info": {
   "codemirror_mode": {
    "name": "ipython",
    "version": 3
   },
   "file_extension": ".py",
   "mimetype": "text/x-python",
   "name": "python",
   "nbconvert_exporter": "python",
   "pygments_lexer": "ipython3",
   "version": "3.11.0"
  }
 },
 "nbformat": 4,
 "nbformat_minor": 4
}
